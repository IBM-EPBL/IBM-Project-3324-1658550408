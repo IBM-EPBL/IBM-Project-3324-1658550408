{
  "cells": [
    {
      "cell_type": "code",
      "execution_count": null,
      "metadata": {
        "id": "Qq5BU_GIotqz"
      },
      "outputs": [],
      "source": [
        "from keras.preprocessing.image import ImageDataGenerator\n",
        "train_datagen=ImageDataGenerator(rescale=1./255,shear_range=0.2,zoom_range=0.2,horizontal_flip=True)\n",
        "test_datagen=ImageDataGenerator(rescale=1./255)"
      ]
    },
    {
      "cell_type": "code",
      "execution_count": null,
      "metadata": {
        "colab": {
          "base_uri": "https://localhost:8080/"
        },
        "id": "qD-P0nmno4L6",
        "outputId": "fe960fb7-faea-40d9-f421-cb261c3847c4"
      },
      "outputs": [
        {
          "output_type": "stream",
          "name": "stdout",
          "text": [
            "Found 15770 images belonging to 9 classes.\n"
          ]
        }
      ],
      "source": [
        "x_train = train_datagen.flow_from_directory(r'/content/drive/MyDrive/conversation engine for deaf and dumb/Dataset/training_set',target_size=(64,64),batch_size=300,class_mode='categorical',color_mode=\"grayscale\")"
      ]
    },
    {
      "cell_type": "code",
      "execution_count": null,
      "metadata": {
        "colab": {
          "base_uri": "https://localhost:8080/"
        },
        "id": "015hQVJLo93O",
        "outputId": "cdc2fb92-d9da-4b83-9bb5-a6a4b42a3d5f"
      },
      "outputs": [
        {
          "output_type": "stream",
          "name": "stdout",
          "text": [
            "Found 2250 images belonging to 9 classes.\n"
          ]
        }
      ],
      "source": [
        "x_test = test_datagen.flow_from_directory(r'/content/drive/MyDrive/conversation engine for deaf and dumb/Dataset/test_set',target_size=(64,64),batch_size=300,class_mode='categorical',color_mode=\"grayscale\")"
      ]
    },
    {
      "cell_type": "code",
      "execution_count": null,
      "metadata": {
        "id": "lmxOQt0LpJ77"
      },
      "outputs": [],
      "source": [
        "from keras.models import Sequential\n",
        "from keras.layers import Dense\n",
        "from keras.layers import Convolution2D\n",
        "from keras.layers import MaxPooling2D\n",
        "from keras.layers import Dropout\n",
        "from keras.layers import Flatten"
      ]
    },
    {
      "cell_type": "code",
      "execution_count": null,
      "metadata": {
        "id": "oB17_nLYpLct"
      },
      "outputs": [],
      "source": [
        "model = Sequential()"
      ]
    },
    {
      "cell_type": "code",
      "execution_count": null,
      "metadata": {
        "id": "jHvMQKmgpSOP"
      },
      "outputs": [],
      "source": [
        "model.add(Convolution2D(32,(3,3),input_shape=(64,64,1), activation='relu'))\n",
        "#no. of feature detectors, size of feature detector, image size, activation function"
      ]
    },
    {
      "cell_type": "code",
      "execution_count": null,
      "metadata": {
        "id": "Qi9Rm2I4pZ0V"
      },
      "outputs": [],
      "source": [
        "model.add(MaxPooling2D(pool_size=(2,2)))"
      ]
    },
    {
      "cell_type": "code",
      "execution_count": null,
      "metadata": {
        "id": "1OloFy9Hpw2L"
      },
      "outputs": [],
      "source": [
        "model.add(Flatten())"
      ]
    },
    {
      "cell_type": "code",
      "execution_count": null,
      "metadata": {
        "id": "mMYXYc7Cpyc_"
      },
      "outputs": [],
      "source": [
        "model.add(Dense(units=512, activation = 'relu'))"
      ]
    },
    {
      "cell_type": "code",
      "execution_count": null,
      "metadata": {
        "id": "zKhpjOz7p4Lt"
      },
      "outputs": [],
      "source": [
        "model.add(Dense(units=9,  activation = 'softmax'))"
      ]
    },
    {
      "cell_type": "code",
      "execution_count": null,
      "metadata": {
        "id": "anYtAEeZp-Gb"
      },
      "outputs": [],
      "source": [
        "model.compile(loss='categorical_crossentropy', optimizer = 'adam', metrics = ['accuracy'])"
      ]
    },
    {
      "cell_type": "code",
      "execution_count": null,
      "metadata": {
        "colab": {
          "background_save": true,
          "base_uri": "https://localhost:8080/"
        },
        "id": "_2D9RTfcp-cG",
        "outputId": "7f805294-9995-4714-c48a-338233865184"
      },
      "outputs": [
        {
          "name": "stderr",
          "output_type": "stream",
          "text": [
            "/usr/local/lib/python3.7/dist-packages/ipykernel_launcher.py:1: UserWarning: `Model.fit_generator` is deprecated and will be removed in a future version. Please use `Model.fit`, which supports generators.\n",
            "  \"\"\"Entry point for launching an IPython kernel.\n"
          ]
        },
        {
          "name": "stdout",
          "output_type": "stream",
          "text": [
            "Epoch 1/10\n",
            "24/24 [==============================] - ETA: 0s - loss: 1.0471 - accuracy: 0.7008  "
          ]
        },
        {
          "name": "stderr",
          "output_type": "stream",
          "text": [
            "WARNING:tensorflow:Your input ran out of data; interrupting training. Make sure that your dataset or generator can generate at least `steps_per_epoch * epochs` batches (in this case, 40 batches). You may need to use the repeat() function when building your dataset.\n"
          ]
        },
        {
          "name": "stdout",
          "output_type": "stream",
          "text": [
            "24/24 [==============================] - 2079s 87s/step - loss: 1.0471 - accuracy: 0.7008 - val_loss: 0.3149 - val_accuracy: 0.9133\n",
            "Epoch 2/10\n",
            "24/24 [==============================] - 798s 33s/step - loss: 0.2237 - accuracy: 0.9373\n",
            "Epoch 3/10\n",
            "24/24 [==============================] - 468s 20s/step - loss: 0.1230 - accuracy: 0.9685\n",
            "Epoch 4/10\n",
            "24/24 [==============================] - 238s 10s/step - loss: 0.0752 - accuracy: 0.9812\n",
            "Epoch 5/10\n",
            "24/24 [==============================] - 131s 6s/step - loss: 0.0514 - accuracy: 0.9869\n",
            "Epoch 6/10\n",
            "24/24 [==============================] - 78s 3s/step - loss: 0.0402 - accuracy: 0.9899\n",
            "Epoch 7/10\n",
            "24/24 [==============================] - 46s 2s/step - loss: 0.0307 - accuracy: 0.9922\n",
            "Epoch 8/10\n",
            "24/24 [==============================] - 33s 1s/step - loss: 0.0211 - accuracy: 0.9959\n",
            "Epoch 9/10\n",
            "24/24 [==============================] - 27s 1s/step - loss: 0.0184 - accuracy: 0.9960\n",
            "Epoch 10/10\n",
            "24/24 [==============================] - 25s 1s/step - loss: 0.0160 - accuracy: 0.9967\n"
          ]
        },
        {
          "data": {
            "text/plain": [
              "<keras.callbacks.History at 0x7faa24ea3bd0>"
            ]
          },
          "execution_count": 12,
          "metadata": {},
          "output_type": "execute_result"
        }
      ],
      "source": [
        "model.fit_generator(x_train,steps_per_epoch=24,epochs=10,validation_data = x_test, validation_steps= 40)\n",
        "#steps_per_epoch = no. of train images//batch size"
      ]
    },
    {
      "cell_type": "code",
      "execution_count": null,
      "metadata": {
        "colab": {
          "background_save": true
        },
        "id": "tOQ3qMKKqNTS"
      },
      "outputs": [],
      "source": [
        "model.save('aslpng1.h5')"
      ]
    },
    {
      "cell_type": "code",
      "execution_count": null,
      "metadata": {
        "id": "LcmjpIMWqaI-"
      },
      "outputs": [],
      "source": [
        "from keras.models import load_model\n",
        "import numpy as np\n",
        "import cv2"
      ]
    },
    {
      "cell_type": "code",
      "execution_count": null,
      "metadata": {
        "id": "Yu2_oeafqa1j"
      },
      "outputs": [],
      "source": [
        "model=load_model('aslpng1.h5')"
      ]
    },
    {
      "cell_type": "code",
      "execution_count": null,
      "metadata": {
        "id": "RMc5mRZoqybb"
      },
      "outputs": [],
      "source": []
    }
  ],
  "metadata": {
    "colab": {
      "provenance": []
    },
    "kernelspec": {
      "display_name": "Python 3",
      "name": "python3"
    },
    "language_info": {
      "name": "python"
    }
  },
  "nbformat": 4,
  "nbformat_minor": 0
}